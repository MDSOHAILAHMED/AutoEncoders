{
  "nbformat": 4,
  "nbformat_minor": 0,
  "metadata": {
    "colab": {
      "name": "Untitled2.ipynb",
      "provenance": [],
      "collapsed_sections": []
    },
    "kernelspec": {
      "name": "python3",
      "display_name": "Python 3"
    },
    "language_info": {
      "name": "python"
    }
  },
  "cells": [
    {
      "cell_type": "markdown",
      "metadata": {
        "id": "RTfo8ZMMvNEb"
      },
      "source": [
        "###Autoencoders\n",
        "#####This Project demonstrates the implementation of different types of Autoencoders\n",
        "Autoencoders are a specific type of feedforward neural networks where the input is the same as the output.\n",
        "They compress the input into a lower-dimensional code and then reconstruct the output from this representation. \n",
        "The code is a compact “summary” or “compression” of the input, also called the latent-space representation.\n",
        "Autoencoders are an unsupervised learning technique which consists of 3 components:\"Encoder, Code, Decoder\"\n",
        "The encoder compresses the input and produces the code, the decoder then reconstructs the input only using this code.\n",
        "\n",
        "4 types of autoencoders are described in this project using the **PyTorch** framework and the **MNIST** dataset\n",
        "\n",
        "1. Vanilla autoencoders\n",
        "2. Multilayer autoencoder\n",
        "3. Convolutional autoencoder\n",
        "4. Denoising autoencoder"
      ]
    },
    {
      "cell_type": "code",
      "metadata": {
        "id": "zK1a7yAb72-p"
      },
      "source": [
        "#Import Libraries\n",
        "import torch\n",
        "import numpy as np\n",
        "from torchvision import datasets\n",
        "import torchvision.transforms as transforms"
      ],
      "execution_count": 1,
      "outputs": []
    },
    {
      "cell_type": "code",
      "metadata": {
        "id": "_dO_nzqe8bPp"
      },
      "source": [
        "#Load the Data and convert data into tensors which is 3 dimensional(RGB)\n",
        "transform=transforms.ToTensor()\n",
        "\n",
        "train_data=datasets.MNIST(root='data',train=True,download=True,transform=transform)\n",
        "test_data=datasets.MNIST(root='data',train=False,download=True,transform=transform)"
      ],
      "execution_count": 3,
      "outputs": []
    },
    {
      "cell_type": "code",
      "metadata": {
        "id": "NzGVlNiK-OxZ"
      },
      "source": [
        "# Create training and test dataloaders\n",
        "num_workers=0\n",
        "batch_size=20\n",
        "train_loader=torch.utils.data.DataLoader(train_data,batch_size=batch_size,num_workers=num_workers)\n",
        "test_loader=torch.utils.data.DataLoader(test_data,batch_size=batch_size,num_workers=num_workers)\n"
      ],
      "execution_count": 4,
      "outputs": []
    },
    {
      "cell_type": "markdown",
      "metadata": {
        "id": "0iMZoEcpudFN"
      },
      "source": [
        "###Visualize the Data"
      ]
    },
    {
      "cell_type": "code",
      "metadata": {
        "colab": {
          "base_uri": "https://localhost:8080/",
          "height": 264
        },
        "id": "B3BAElspB2iy",
        "outputId": "a230cda2-ff70-4bc0-e882-0ed19b0c1acc"
      },
      "source": [
        "import matplotlib.pyplot as plt\n",
        "%matplotlib inline\n",
        "\n",
        "dataiter=iter(train_loader)\n",
        "images,labels=dataiter.next()\n",
        "images=images.numpy()\n",
        "\n",
        "fig = plt.figure(figsize=(20, 4))\n",
        "for idx in np.arange(20):\n",
        "    ax = fig.add_subplot(2, 20/2, idx+1, xticks=[], yticks=[])\n",
        "    ax.imshow(np.squeeze(images[idx]), cmap='gray')\n",
        "    # print out the correct label for each image\n",
        "    # .item() gets the value contained in a Tensor\n",
        "    ax.set_title(str(labels[idx].item()))\n"
      ],
      "execution_count": 5,
      "outputs": [
        {
          "output_type": "display_data",
          "data": {
            "image/png": "[encoded data removed]",
            "text/plain": [
              "<Figure size 1440x288 with 20 Axes>"
            ]
          },
          "metadata": {
            "tags": []
          }
        }
      ]
    },
    {
      "cell_type": "code",
      "metadata": {
        "colab": {
          "base_uri": "https://localhost:8080/"
        },
        "id": "HZrLq6SvHNJI",
        "outputId": "2d5f3b80-f25b-45f2-bd78-a7e76e4480d3"
      },
      "source": [
        "print(images.shape)\n",
        "print(labels.shape)\n",
        "print(len(train_loader))"
      ],
      "execution_count": 6,
      "outputs": [
        {
          "output_type": "stream",
          "text": [
            "(20, 1, 28, 28)\n",
            "torch.Size([20])\n",
            "3000\n"
          ],
          "name": "stdout"
        }
      ]
    },
    {
      "cell_type": "markdown",
      "metadata": {
        "id": "iA4zztD3urQF"
      },
      "source": [
        "###**Vanilla** **Autoencoder**\n",
        "We'll train an autoencoder with these images by flattening them into 784 length vectors. The images from this dataset are already normalized such that the values are between 0 and 1. Let's start by building a simple autoencoder. The encoder and decoder should be made of one linear layer. The units that connect the encoder and decoder will be the compressed representation and this representation is a vector with dimension\n",
        "encoding_dim=32\n",
        "####The first network is the most simple autoencoder. It has three layers : Input - encoded - decoded i.e; **784 inputs > encoding_dim > 784 outputs**. All layers will have ReLu activations applied except for the final output layer, which has a sigmoid activation."
      ]
    },
    {
      "cell_type": "code",
      "metadata": {
        "colab": {
          "base_uri": "https://localhost:8080/"
        },
        "id": "jrXc_c-3Hmru",
        "outputId": "c15b42e2-c949-49c9-b857-c7d323272790"
      },
      "source": [
        "import torch.nn as nn\n",
        "import torch.nn.functional as F\n",
        "\n",
        "class VanillaAutoencoder(nn.Module):\n",
        "  def __init__(self,encoding_dim):\n",
        "    super(VanillaAutoencoder,self).__init__()\n",
        "    #encoder\n",
        "    self.fc1=nn.Linear(28*28,encoding_dim)\n",
        "    #decoder\n",
        "    self.fc2=nn.Linear(encoding_dim,28*28)\n",
        "\n",
        "  def forward(self,x):\n",
        "    x=F.relu(self.fc1(x))\n",
        "    # output layer (sigmoid for scaling from 0 to 1)\n",
        "    x=F.sigmoid(self.fc2(x))\n",
        "\n",
        "    return x\n",
        "\n",
        "encoding_dim=32\n",
        "vanilla_model=VanillaAutoencoder(encoding_dim)\n",
        "print(vanilla_model)"
      ],
      "execution_count": 7,
      "outputs": [
        {
          "output_type": "stream",
          "text": [
            "VanillaAutoencoder(\n",
            "  (fc1): Linear(in_features=784, out_features=32, bias=True)\n",
            "  (fc2): Linear(in_features=32, out_features=784, bias=True)\n",
            ")\n"
          ],
          "name": "stdout"
        }
      ]
    },
    {
      "cell_type": "markdown",
      "metadata": {
        "id": "TNyRO1IAyHJa"
      },
      "source": [
        "###Training\n",
        "I have used **MSELoss**. And compare output images and input images as follows:\n",
        "\n",
        "loss = criterion(outputs, images)\n",
        "and **Adam** optimizer to optimize parameters"
      ]
    },
    {
      "cell_type": "code",
      "metadata": {
        "id": "Mymn_vLMRbx-"
      },
      "source": [
        "criterion=nn.MSELoss()\n",
        "\n",
        "optimizer=torch.optim.Adam(vanilla_model.parameters(),lr=0.001)"
      ],
      "execution_count": 8,
      "outputs": []
    },
    {
      "cell_type": "code",
      "metadata": {
        "id": "bXd0OPqXR2f1",
        "colab": {
          "base_uri": "https://localhost:8080/"
        },
        "outputId": "3a44e9b5-b859-4c32-b637-d9c873e01e71"
      },
      "source": [
        "n_epochs=20\n",
        "\n",
        "for epoch in range(1,n_epochs+1):\n",
        "  #monitor training loss\n",
        "  train_loss=0.0\n",
        "  for data in train_loader:\n",
        "    images,_ = data\n",
        "    #flatten images to get the dimesion as [batch_size,784]\n",
        "    images=images.view(images.size(0),-1)\n",
        "    #Forward pass\n",
        "    optimizer.zero_grad()\n",
        "    outputs=vanilla_model(images)\n",
        "    loss=criterion(outputs,images)\n",
        "    #Backward pass\n",
        "    loss.backward()\n",
        "    optimizer.step()\n",
        "    # update running training loss\n",
        "    train_loss+=loss.item()*images.size(0)\n",
        "\n",
        "  train_loss=train_loss/len(train_loader)\n",
        "  print('Epoch: {} \\tTraining Loss: {:.6f}'.format(epoch,train_loss))\n",
        "   \n",
        "  "
      ],
      "execution_count": 9,
      "outputs": [
        {
          "output_type": "stream",
          "text": [
            "/usr/local/lib/python3.7/dist-packages/torch/nn/functional.py:1709: UserWarning: nn.functional.sigmoid is deprecated. Use torch.sigmoid instead.\n",
            "  warnings.warn(\"nn.functional.sigmoid is deprecated. Use torch.sigmoid instead.\")\n"
          ],
          "name": "stderr"
        },
        {
          "output_type": "stream",
          "text": [
            "Epoch: 1 \tTraining Loss: 0.634173\n",
            "Epoch: 2 \tTraining Loss: 0.321965\n",
            "Epoch: 3 \tTraining Loss: 0.283522\n",
            "Epoch: 4 \tTraining Loss: 0.274732\n",
            "Epoch: 5 \tTraining Loss: 0.271152\n",
            "Epoch: 6 \tTraining Loss: 0.268722\n",
            "Epoch: 7 \tTraining Loss: 0.267099\n",
            "Epoch: 8 \tTraining Loss: 0.265996\n",
            "Epoch: 9 \tTraining Loss: 0.265126\n",
            "Epoch: 10 \tTraining Loss: 0.264407\n",
            "Epoch: 11 \tTraining Loss: 0.263620\n",
            "Epoch: 12 \tTraining Loss: 0.262592\n",
            "Epoch: 13 \tTraining Loss: 0.262044\n",
            "Epoch: 14 \tTraining Loss: 0.261570\n",
            "Epoch: 15 \tTraining Loss: 0.261053\n",
            "Epoch: 16 \tTraining Loss: 0.260612\n",
            "Epoch: 17 \tTraining Loss: 0.260222\n",
            "Epoch: 18 \tTraining Loss: 0.259816\n",
            "Epoch: 19 \tTraining Loss: 0.259465\n",
            "Epoch: 20 \tTraining Loss: 0.259130\n"
          ],
          "name": "stdout"
        }
      ]
    },
    {
      "cell_type": "markdown",
      "metadata": {
        "id": "oPccBn8CzLK4"
      },
      "source": [
        "###Visualization\n",
        "Prediction on the Test set\n",
        "Below I've plotted some of the test images along with their reconstructions. \n",
        "They are indeed pretty similar, but not exactly the same. We can notice it more clearly in the digit **9**. "
      ]
    },
    {
      "cell_type": "code",
      "metadata": {
        "colab": {
          "base_uri": "https://localhost:8080/",
          "height": 261
        },
        "id": "12SJ8cYJlR6z",
        "outputId": "4cec55e3-8afe-4310-f200-722f761235d1"
      },
      "source": [
        "dataiter=iter(test_loader)\n",
        "images,_ = dataiter.next()\n",
        "images_flatten=images.view(images.size(0),-1)\n",
        "output=vanilla_model(images_flatten)\n",
        "images=images.numpy()\n",
        "\n",
        "output=output.view(batch_size,1,28,28)\n",
        "output=output.detach().numpy()\n",
        "\n",
        "fig, axes = plt.subplots(nrows=2, ncols=10, sharex=True, sharey=True, figsize=(25,4))\n",
        "\n",
        "# input images on top row, reconstructions on bottom\n",
        "for images, row in zip([images, output], axes):\n",
        "    for img, ax in zip(images, row):\n",
        "        ax.imshow(np.squeeze(img), cmap='gray')\n",
        "        ax.get_xaxis().set_visible(False)\n",
        "        ax.get_yaxis().set_visible(False)\n"
      ],
      "execution_count": 10,
      "outputs": [
        {
          "output_type": "stream",
          "text": [
            "/usr/local/lib/python3.7/dist-packages/torch/nn/functional.py:1709: UserWarning: nn.functional.sigmoid is deprecated. Use torch.sigmoid instead.\n",
            "  warnings.warn(\"nn.functional.sigmoid is deprecated. Use torch.sigmoid instead.\")\n"
          ],
          "name": "stderr"
        },
        {
          "output_type": "display_data",
          "data": {
            "image/png": "[encoded data removed]",
            "text/plain": [
              "<Figure size 1800x288 with 20 Axes>"
            ]
          },
          "metadata": {
            "tags": [],
            "needs_background": "light"
          }
        }
      ]
    },
    {
      "cell_type": "markdown",
      "metadata": {
        "id": "ROgkuM-j0JOP"
      },
      "source": [
        "###Multilayer autoencoder\n",
        "We extend the idea of the first network to more layers. It has five layers : 784 inputs > encoding_dim >code_size>encoding_dim> 784 outputs. All layers will have ReLu activations applied except for the final output layer, which has a sigmoid activation."
      ]
    },
    {
      "cell_type": "code",
      "metadata": {
        "colab": {
          "base_uri": "https://localhost:8080/"
        },
        "id": "UCT_4kCZHzcp",
        "outputId": "98ecc523-64be-413f-860b-44b594504075"
      },
      "source": [
        "class MultilayerAutoencoder(nn.Module):\n",
        "  def __init__(self,encoding_dim,code_size):\n",
        "    super(MultilayerAutoencoder,self).__init__()\n",
        "\n",
        "    #Encoder\n",
        "    self.fc1=nn.Linear(28*28,encoding_dim)\n",
        "    self.fc2=nn.Linear(encoding_dim,code_size)\n",
        "    #Decoder\n",
        "    self.fc3=nn.Linear(code_size,encoding_dim)\n",
        "    self.fc4=nn.Linear(encoding_dim,28*28)\n",
        "\n",
        "  def forward(self,x):\n",
        "    x=F.relu(self.fc1(x))\n",
        "    x=F.relu(self.fc2(x))\n",
        "    x=F.relu(self.fc3(x))\n",
        "    x=F.sigmoid(self.fc4(x))\n",
        "\n",
        "    return x\n",
        "encoding_dim=128\n",
        "code_size=64\n",
        "multilayer_model=MultilayerAutoencoder(encoding_dim,code_size)\n",
        "print(multilayer_model)\n",
        "\n"
      ],
      "execution_count": 15,
      "outputs": [
        {
          "output_type": "stream",
          "text": [
            "MultilayerAutoencoder(\n",
            "  (fc1): Linear(in_features=784, out_features=128, bias=True)\n",
            "  (fc2): Linear(in_features=128, out_features=64, bias=True)\n",
            "  (fc3): Linear(in_features=64, out_features=128, bias=True)\n",
            "  (fc4): Linear(in_features=128, out_features=784, bias=True)\n",
            ")\n"
          ],
          "name": "stdout"
        }
      ]
    },
    {
      "cell_type": "markdown",
      "metadata": {
        "id": "Qhm5Vsky14Po"
      },
      "source": [
        "###Training\n",
        "1. Loss=MSELoss\n",
        "2. optimizer=Adam\n",
        "3. lr=0.001"
      ]
    },
    {
      "cell_type": "code",
      "metadata": {
        "id": "xKSZt3NHK2AJ"
      },
      "source": [
        "criterion=nn.MSELoss()\n",
        "optimizer=torch.optim.Adam(multilayer_model.parameters(),lr=0.001)"
      ],
      "execution_count": 16,
      "outputs": []
    },
    {
      "cell_type": "code",
      "metadata": {
        "colab": {
          "base_uri": "https://localhost:8080/"
        },
        "id": "zSnroEYjLWul",
        "outputId": "ffd0b65c-53cc-450c-ce0b-d528fd375eb9"
      },
      "source": [
        "n_epochs=20\n",
        "train_loss1=[]\n",
        "for epoch in range(1,n_epochs+1):\n",
        "  train_loss=0.0\n",
        "  for data in train_loader:\n",
        "    images,_ = data\n",
        "    images=images.view(images.size(0),-1)\n",
        "\n",
        "    optimizer.zero_grad()\n",
        "    outputs=multilayer_model(images)\n",
        "    loss=criterion(outputs,images)\n",
        "    loss.backward()\n",
        "    optimizer.step()\n",
        "    train_loss+=loss.item()*images.size(0)\n",
        "    train_loss1.append(train_loss)\n",
        "  train_loss=train_loss/len(train_loader)\n",
        "  print('Epoch: {} \\tTraining Loss: {:.6f}'.format(epoch,train_loss))\n"
      ],
      "execution_count": 17,
      "outputs": [
        {
          "output_type": "stream",
          "text": [
            "/usr/local/lib/python3.7/dist-packages/torch/nn/functional.py:1709: UserWarning: nn.functional.sigmoid is deprecated. Use torch.sigmoid instead.\n",
            "  warnings.warn(\"nn.functional.sigmoid is deprecated. Use torch.sigmoid instead.\")\n"
          ],
          "name": "stderr"
        },
        {
          "output_type": "stream",
          "text": [
            "Epoch: 1 \tTraining Loss: 0.509156\n",
            "Epoch: 2 \tTraining Loss: 0.218884\n",
            "Epoch: 3 \tTraining Loss: 0.174337\n",
            "Epoch: 4 \tTraining Loss: 0.148271\n",
            "Epoch: 5 \tTraining Loss: 0.132531\n",
            "Epoch: 6 \tTraining Loss: 0.122448\n",
            "Epoch: 7 \tTraining Loss: 0.114384\n",
            "Epoch: 8 \tTraining Loss: 0.107842\n",
            "Epoch: 9 \tTraining Loss: 0.102828\n",
            "Epoch: 10 \tTraining Loss: 0.098733\n",
            "Epoch: 11 \tTraining Loss: 0.095757\n",
            "Epoch: 12 \tTraining Loss: 0.093556\n",
            "Epoch: 13 \tTraining Loss: 0.091890\n",
            "Epoch: 14 \tTraining Loss: 0.090546\n",
            "Epoch: 15 \tTraining Loss: 0.089475\n",
            "Epoch: 16 \tTraining Loss: 0.088575\n",
            "Epoch: 17 \tTraining Loss: 0.087810\n",
            "Epoch: 18 \tTraining Loss: 0.087141\n",
            "Epoch: 19 \tTraining Loss: 0.086521\n",
            "Epoch: 20 \tTraining Loss: 0.085948\n"
          ],
          "name": "stdout"
        }
      ]
    },
    {
      "cell_type": "markdown",
      "metadata": {
        "id": "EyMZ0LP72P11"
      },
      "source": [
        "###plot the model loss"
      ]
    },
    {
      "cell_type": "code",
      "metadata": {
        "colab": {
          "base_uri": "https://localhost:8080/",
          "height": 295
        },
        "id": "pREiwYktiaGI",
        "outputId": "5fec199d-d43a-4110-eb29-0c0451205e1f"
      },
      "source": [
        "plt.title('model loss')\n",
        "plt.plot(train_loss1)\n",
        "plt.ylabel('loss')\n",
        "plt.xlabel('epoch')\n",
        "plt.show()"
      ],
      "execution_count": 25,
      "outputs": [
        {
          "output_type": "display_data",
          "data": {
            "image/png": "[encoded data removed]",
            "text/plain": [
              "<Figure size 432x288 with 1 Axes>"
            ]
          },
          "metadata": {
            "tags": [],
            "needs_background": "light"
          }
        }
      ]
    },
    {
      "cell_type": "markdown",
      "metadata": {
        "id": "W27m2MZx2iGC"
      },
      "source": [
        "###Prediction on test set"
      ]
    },
    {
      "cell_type": "code",
      "metadata": {
        "colab": {
          "base_uri": "https://localhost:8080/",
          "height": 261
        },
        "id": "vsXZ5xy6M_Za",
        "outputId": "d737c2ba-3688-452b-c3a9-01d16d13c526"
      },
      "source": [
        "dataiter = iter(test_loader)\n",
        "images, labels = dataiter.next()\n",
        "\n",
        "images_flatten = images.view(images.size(0), -1)\n",
        "\n",
        "output = multilayer_model(images_flatten)\n",
        "images = images.numpy()\n",
        "\n",
        "\n",
        "output = output.view(batch_size, 1, 28, 28)\n",
        "# use detach when it's an output that requires_grad\n",
        "output = output.detach().numpy()\n",
        "\n",
        "# plot the first ten input images and then reconstructed images\n",
        "fig, axes = plt.subplots(nrows=2, ncols=10, sharex=True, sharey=True, figsize=(25,4))\n",
        "\n",
        "# input images on top row, reconstructions on bottom\n",
        "for images, row in zip([images, output], axes):\n",
        "    for img, ax in zip(images, row):\n",
        "        ax.imshow(np.squeeze(img), cmap='gray')\n",
        "        ax.get_xaxis().set_visible(False)\n",
        "        ax.get_yaxis().set_visible(False)"
      ],
      "execution_count": 18,
      "outputs": [
        {
          "output_type": "stream",
          "text": [
            "/usr/local/lib/python3.7/dist-packages/torch/nn/functional.py:1709: UserWarning: nn.functional.sigmoid is deprecated. Use torch.sigmoid instead.\n",
            "  warnings.warn(\"nn.functional.sigmoid is deprecated. Use torch.sigmoid instead.\")\n"
          ],
          "name": "stderr"
        },
        {
          "output_type": "display_data",
          "data": {
            "image/png": "[encoded data removed]",
            "text/plain": [
              "<Figure size 1800x288 with 20 Axes>"
            ]
          },
          "metadata": {
            "tags": [],
            "needs_background": "light"
          }
        }
      ]
    },
    {
      "cell_type": "markdown",
      "metadata": {
        "id": "BuwmPQJ-2vx2"
      },
      "source": [
        "###Convolutional Autoencoder\n",
        "####Encoder\n",
        "The encoder part of the network will be a typical convolutional pyramid. Each convolutional layer will be followed by a max-pooling layer to reduce the dimensions of the layers.\n",
        "\n",
        "####Decoder\n",
        "The decoder needs to convert from a narrow representation to a wide, reconstructed image. For example, the representation could be a 7x7x4 max-pool layer. This is the output of the encoder, but also the input to the decoder. We want to get a 28x28x1 image out from the decoder so we need to work our way back up from the compressed representation.\n",
        "\n",
        "####Conclusion\n",
        "Here our final encoder layer has size 7x7x4 = 196. The original images have size 28x28 = 784, so the encoded vector is 25% the size of the original image."
      ]
    },
    {
      "cell_type": "code",
      "metadata": {
        "colab": {
          "base_uri": "https://localhost:8080/"
        },
        "id": "gtbMdbEUOxYG",
        "outputId": "212babff-fee3-4fb8-8afc-16f94746447f"
      },
      "source": [
        "class ConvAutoencoder(nn.Module):\n",
        "  def __init__(self):\n",
        "    super(ConvAutoencoder,self).__init__()\n",
        "    #encoder layers\n",
        "    # conv layer (depth from 1 --> 16), 3x3 kernels\n",
        "    self.conv1=nn.Conv2d(1,16,3,padding=1)\n",
        "    # conv layer (depth from 16 --> 4), 3x3 kernels\n",
        "    self.conv2=nn.Conv2d(16,4,3,padding=1)\n",
        "    # pooling layer to reduce x-y dims by two; kernel and stride of 2\n",
        "    self.pool=nn.MaxPool2d(2,2)\n",
        "    #decoder layers\n",
        "    #a kernel of 2 and a stride of 2 will increase the spatial dims by 2\n",
        "    self.t_conv1=nn.ConvTranspose2d(4,16,2,stride=2)\n",
        "    self.t_conv2=nn.ConvTranspose2d(16,1,2,stride=2)\n",
        "\n",
        "  def forward(self,x):\n",
        "    #encode\n",
        "    x=F.relu(self.conv1(x))\n",
        "    x=self.pool(x)\n",
        "\n",
        "    x=F.relu(self.conv2(x))\n",
        "    x=self.pool(x)      # compressed representation\n",
        "    #decode\n",
        "    x=F.relu(self.t_conv1(x))\n",
        "    x=F.sigmoid(self.t_conv2(x))\n",
        "\n",
        "    return x\n",
        "conv_model=ConvAutoencoder()\n",
        "print(conv_model)"
      ],
      "execution_count": 20,
      "outputs": [
        {
          "output_type": "stream",
          "text": [
            "ConvAutoencoder(\n",
            "  (conv1): Conv2d(1, 16, kernel_size=(3, 3), stride=(1, 1), padding=(1, 1))\n",
            "  (conv2): Conv2d(16, 4, kernel_size=(3, 3), stride=(1, 1), padding=(1, 1))\n",
            "  (pool): MaxPool2d(kernel_size=2, stride=2, padding=0, dilation=1, ceil_mode=False)\n",
            "  (t_conv1): ConvTranspose2d(4, 16, kernel_size=(2, 2), stride=(2, 2))\n",
            "  (t_conv2): ConvTranspose2d(16, 1, kernel_size=(2, 2), stride=(2, 2))\n",
            ")\n"
          ],
          "name": "stdout"
        }
      ]
    },
    {
      "cell_type": "markdown",
      "metadata": {
        "id": "-qkL24LH8_G7"
      },
      "source": [
        "###Training\n",
        "1. Loss = MSELoss\n",
        "2. optimizer = Adam\n",
        "3. lr = 0.001\n",
        "Since this is a convlutional autoencoder, our images do not need to be flattened before being passed in an input to our model."
      ]
    },
    {
      "cell_type": "code",
      "metadata": {
        "id": "TMb9v0O6bJme"
      },
      "source": [
        "criterion = nn.MSELoss()\n",
        "\n",
        "# specify loss function\n",
        "optimizer = torch.optim.Adam(conv_model.parameters(), lr=0.001)"
      ],
      "execution_count": 21,
      "outputs": []
    },
    {
      "cell_type": "code",
      "metadata": {
        "colab": {
          "base_uri": "https://localhost:8080/"
        },
        "id": "mOBuvtUUbPE8",
        "outputId": "f474a59a-9dab-4c67-91d4-001afe55f4d1"
      },
      "source": [
        "n_epochs = 30\n",
        "\n",
        "for epoch in range(1, n_epochs+1):\n",
        "    # monitor training loss\n",
        "    train_loss = 0.0\n",
        "    \n",
        "    ###################\n",
        "    # train the model #\n",
        "    ###################\n",
        "    for data in train_loader:\n",
        "        # _ stands in for labels, here\n",
        "        # no need to flatten images\n",
        "        images, _ = data\n",
        "        # clear the gradients of all optimized variables\n",
        "        optimizer.zero_grad()\n",
        "        # forward pass: compute predicted outputs by passing inputs to the model\n",
        "        outputs = conv_model(images)\n",
        "        # calculate the loss\n",
        "        loss = criterion(outputs, images)\n",
        "        # backward pass: compute gradient of the loss with respect to model parameters\n",
        "        loss.backward()\n",
        "        # perform a single optimization step (parameter update)\n",
        "        optimizer.step()\n",
        "        # update running training loss\n",
        "        train_loss += loss.item()*images.size(0)\n",
        "            \n",
        "    # print avg training statistics \n",
        "    train_loss = train_loss/len(train_loader)\n",
        "    print('Epoch: {} \\tTraining Loss: {:.6f}'.format(\n",
        "        epoch, \n",
        "        train_loss\n",
        "        ))"
      ],
      "execution_count": null,
      "outputs": [
        {
          "output_type": "stream",
          "text": [
            "/usr/local/lib/python3.7/dist-packages/torch/nn/functional.py:1709: UserWarning: nn.functional.sigmoid is deprecated. Use torch.sigmoid instead.\n",
            "  warnings.warn(\"nn.functional.sigmoid is deprecated. Use torch.sigmoid instead.\")\n"
          ],
          "name": "stderr"
        },
        {
          "output_type": "stream",
          "text": [
            "Epoch: 1 \tTraining Loss: 0.576866\n",
            "Epoch: 2 \tTraining Loss: 0.246045\n",
            "Epoch: 3 \tTraining Loss: 0.211998\n",
            "Epoch: 4 \tTraining Loss: 0.198732\n",
            "Epoch: 5 \tTraining Loss: 0.191192\n",
            "Epoch: 6 \tTraining Loss: 0.186111\n",
            "Epoch: 7 \tTraining Loss: 0.182125\n",
            "Epoch: 8 \tTraining Loss: 0.178682\n",
            "Epoch: 9 \tTraining Loss: 0.175747\n",
            "Epoch: 10 \tTraining Loss: 0.173001\n",
            "Epoch: 11 \tTraining Loss: 0.170806\n",
            "Epoch: 12 \tTraining Loss: 0.169189\n",
            "Epoch: 13 \tTraining Loss: 0.167964\n",
            "Epoch: 14 \tTraining Loss: 0.166961\n",
            "Epoch: 15 \tTraining Loss: 0.166111\n",
            "Epoch: 16 \tTraining Loss: 0.165283\n",
            "Epoch: 17 \tTraining Loss: 0.164390\n",
            "Epoch: 18 \tTraining Loss: 0.163626\n",
            "Epoch: 19 \tTraining Loss: 0.162932\n"
          ],
          "name": "stdout"
        }
      ]
    },
    {
      "cell_type": "markdown",
      "metadata": {
        "id": "oFb2dKzT_4YB"
      },
      "source": [
        "###Visualization"
      ]
    },
    {
      "cell_type": "code",
      "metadata": {
        "colab": {
          "base_uri": "https://localhost:8080/",
          "height": 261
        },
        "id": "ow77ylZzh_xZ",
        "outputId": "264229e4-03a6-4dc7-baac-864659ab874c"
      },
      "source": [
        "dataiter = iter(test_loader)\n",
        "images, labels = dataiter.next()\n",
        "\n",
        "output = conv_model(images)\n",
        "images = images.numpy()\n",
        "\n",
        "# output is resized into a batch of iages\n",
        "output = output.view(batch_size, 1, 28, 28)\n",
        "# use detach when it's an output that requires_grad\n",
        "output = output.detach().numpy()\n",
        "\n",
        "fig, axes = plt.subplots(nrows=2, ncols=10, sharex=True, sharey=True, figsize=(25,4))\n",
        "\n",
        "for images, row in zip([images, output], axes):\n",
        "    for img, ax in zip(images, row):\n",
        "        ax.imshow(np.squeeze(img), cmap='gray')\n",
        "        ax.get_xaxis().set_visible(False)\n",
        "        ax.get_yaxis().set_visible(False)"
      ],
      "execution_count": 23,
      "outputs": [
        {
          "output_type": "stream",
          "text": [
            "/usr/local/lib/python3.7/dist-packages/torch/nn/functional.py:1709: UserWarning: nn.functional.sigmoid is deprecated. Use torch.sigmoid instead.\n",
            "  warnings.warn(\"nn.functional.sigmoid is deprecated. Use torch.sigmoid instead.\")\n"
          ],
          "name": "stderr"
        },
        {
          "output_type": "display_data",
          "data": {
            "image/png": "[encoded data removed]",
            "text/plain": [
              "<Figure size 1800x288 with 20 Axes>"
            ]
          },
          "metadata": {
            "tags": [],
            "needs_background": "light"
          }
        }
      ]
    },
    {
      "cell_type": "markdown",
      "metadata": {
        "id": "Y0BHygYzAAnd"
      },
      "source": [
        "###Denoising Autoencoder\n",
        "Sticking with the MNIST dataset, let's add noise to our data and see if we can define and train an autoencoder to de-noise the images.\n",
        "###Denoising\n",
        "However, they can be used to denoise images quite successfully just by training the network on noisy images. We can create the noisy images ourselves by adding Gaussian noise to the training images, then clipping the values to be between 0 and 1.\n",
        "\n",
        "We'll use noisy images as input and the original, clean images as targets.\n",
        "\n",
        "#### Addded deeper and/or additional layers i.e; layers with more feature maps compared to the model above."
      ]
    },
    {
      "cell_type": "code",
      "metadata": {
        "colab": {
          "base_uri": "https://localhost:8080/"
        },
        "id": "wp4-wXYak0vA",
        "outputId": "c14fcb26-15e3-4678-eccc-59485cc1b2b3"
      },
      "source": [
        "class ConvDenoiser(nn.Module):\n",
        "  def __init__(self):\n",
        "    super(ConvDenoiser,self).__init__()\n",
        "    #Encoder layers\n",
        "    self.conv1=nn.Conv2d(1,32,3,padding=1)\n",
        "    self.conv2=nn.Conv2d(32,16,3,padding=1)\n",
        "    self.conv3=nn.Conv2d(16,8,3,padding=1)\n",
        "\n",
        "    self.pool=nn.MaxPool2d(2,2)\n",
        "    \n",
        "    #Decoder layers\n",
        "    self.t_conv1=nn.ConvTranspose2d(8,8,3,stride=2)\n",
        "    self.t_conv2=nn.ConvTranspose2d(8,16,2,stride=2)\n",
        "    self.t_conv3=nn.ConvTranspose2d(16,32,2,stride=2)\n",
        "\n",
        "    self.conv_out=nn.Conv2d(32,1,3,padding=1)\n",
        "\n",
        "  def forward(self,x):\n",
        "    ## encode\n",
        "    x=F.relu(self.conv1(x))\n",
        "    x=self.pool(x)\n",
        "    x=F.relu(self.conv2(x))\n",
        "    x=self.pool(x)\n",
        "    x=F.relu(self.conv3(x))\n",
        "    x=self.pool(x)\n",
        "    ## decode\n",
        "    x=F.relu(self.t_conv1(x))\n",
        "    x=F.relu(self.t_conv2(x))\n",
        "    x=F.relu(self.t_conv3(x))\n",
        "    x=F.sigmoid(self.conv_out(x))\n",
        "\n",
        "    return x\n",
        "denoiser_model=ConvDenoiser()\n",
        "print(denoiser_model)\n",
        "\n"
      ],
      "execution_count": 28,
      "outputs": [
        {
          "output_type": "stream",
          "text": [
            "ConvDenoiser(\n",
            "  (conv1): Conv2d(1, 32, kernel_size=(3, 3), stride=(1, 1), padding=(1, 1))\n",
            "  (conv2): Conv2d(32, 16, kernel_size=(3, 3), stride=(1, 1), padding=(1, 1))\n",
            "  (conv3): Conv2d(16, 8, kernel_size=(3, 3), stride=(1, 1), padding=(1, 1))\n",
            "  (pool): MaxPool2d(kernel_size=2, stride=2, padding=0, dilation=1, ceil_mode=False)\n",
            "  (t_conv1): ConvTranspose2d(8, 8, kernel_size=(3, 3), stride=(2, 2))\n",
            "  (t_conv2): ConvTranspose2d(8, 16, kernel_size=(2, 2), stride=(2, 2))\n",
            "  (t_conv3): ConvTranspose2d(16, 32, kernel_size=(2, 2), stride=(2, 2))\n",
            "  (conv_out): Conv2d(32, 1, kernel_size=(3, 3), stride=(1, 1), padding=(1, 1))\n",
            ")\n"
          ],
          "name": "stdout"
        }
      ]
    },
    {
      "cell_type": "markdown",
      "metadata": {
        "id": "2i_r6H4LBfFA"
      },
      "source": [
        "###Training\n",
        "In this case, we are actually adding some noise to these images and we'll feed these noisy_imgs to our model. The model will produce reconstructed images based on the noisy input. But, we want it to produce normal un-noisy images, and so, when we calculate the loss, we will still compare the reconstructed outputs to the original images!"
      ]
    },
    {
      "cell_type": "code",
      "metadata": {
        "id": "6rxyjut4otq9"
      },
      "source": [
        "criterion = nn.MSELoss()\n",
        "\n",
        "# specify loss function\n",
        "optimizer = torch.optim.Adam(denoiser_model.parameters(), lr=0.001)"
      ],
      "execution_count": 30,
      "outputs": []
    },
    {
      "cell_type": "code",
      "metadata": {
        "colab": {
          "base_uri": "https://localhost:8080/"
        },
        "id": "MNGYJeZho4Ne",
        "outputId": "31a5c93b-2d54-4067-be66-8c16785ba12b"
      },
      "source": [
        "n_epochs = 20\n",
        "train_loss2=[]\n",
        "\n",
        "# for adding noise to images\n",
        "noise_factor=0.5\n",
        "\n",
        "for epoch in range(1, n_epochs+1):\n",
        "    # monitor training loss\n",
        "    train_loss = 0.0\n",
        "    # train the model\n",
        "    for data in train_loader:\n",
        "        images, _ = data\n",
        "        \n",
        "        ## add random noise to the input images\n",
        "        noisy_imgs = images + noise_factor * torch.randn(*images.shape)\n",
        "        # Clip the images to be between 0 and 1\n",
        "        noisy_imgs = np.clip(noisy_imgs, 0., 1.)\n",
        "            \n",
        "        optimizer.zero_grad()\n",
        "        ## forward pass:\n",
        "        outputs = denoiser_model(noisy_imgs)\n",
        "        # the \"target\" is still the original, not-noisy images\n",
        "        loss = criterion(outputs, images)\n",
        "        # backward pass:\n",
        "        loss.backward()\n",
        "        optimizer.step()\n",
        "        # update running training loss\n",
        "        train_loss += loss.item()*images.size(0)\n",
        "        train_loss2.append(train_loss)\n",
        "            \n",
        "    # print avg training statistics \n",
        "    train_loss = train_loss/len(train_loader)\n",
        "    print('Epoch: {} \\tTraining Loss: {:.6f}'.format(\n",
        "        epoch, \n",
        "        train_loss\n",
        "        ))"
      ],
      "execution_count": 31,
      "outputs": [
        {
          "output_type": "stream",
          "text": [
            "/usr/local/lib/python3.7/dist-packages/torch/nn/functional.py:1709: UserWarning: nn.functional.sigmoid is deprecated. Use torch.sigmoid instead.\n",
            "  warnings.warn(\"nn.functional.sigmoid is deprecated. Use torch.sigmoid instead.\")\n"
          ],
          "name": "stderr"
        },
        {
          "output_type": "stream",
          "text": [
            "Epoch: 1 \tTraining Loss: 0.866331\n",
            "Epoch: 2 \tTraining Loss: 0.612890\n",
            "Epoch: 3 \tTraining Loss: 0.567922\n",
            "Epoch: 4 \tTraining Loss: 0.541326\n",
            "Epoch: 5 \tTraining Loss: 0.507548\n",
            "Epoch: 6 \tTraining Loss: 0.484485\n",
            "Epoch: 7 \tTraining Loss: 0.466473\n",
            "Epoch: 8 \tTraining Loss: 0.453276\n",
            "Epoch: 9 \tTraining Loss: 0.443907\n",
            "Epoch: 10 \tTraining Loss: 0.434847\n",
            "Epoch: 11 \tTraining Loss: 0.428693\n",
            "Epoch: 12 \tTraining Loss: 0.423001\n",
            "Epoch: 13 \tTraining Loss: 0.419110\n",
            "Epoch: 14 \tTraining Loss: 0.415501\n",
            "Epoch: 15 \tTraining Loss: 0.412112\n",
            "Epoch: 16 \tTraining Loss: 0.409143\n",
            "Epoch: 17 \tTraining Loss: 0.406322\n",
            "Epoch: 18 \tTraining Loss: 0.404028\n",
            "Epoch: 19 \tTraining Loss: 0.401410\n",
            "Epoch: 20 \tTraining Loss: 0.399313\n"
          ],
          "name": "stdout"
        }
      ]
    },
    {
      "cell_type": "markdown",
      "metadata": {
        "id": "n9ZnWHspB7Nf"
      },
      "source": [
        "###Checking out the results\n",
        "Here I'm adding noise to the test images and passing them through the autoencoder. It does a suprising great job of removing the noise, even though it's sometimes difficult to tell what the original number is."
      ]
    },
    {
      "cell_type": "code",
      "metadata": {
        "colab": {
          "base_uri": "https://localhost:8080/",
          "height": 261
        },
        "id": "hJjbaA32p3dS",
        "outputId": "3aedbfa3-6c01-41d3-c3d0-ca32b8fe9245"
      },
      "source": [
        "dataiter = iter(test_loader)\n",
        "images, labels = dataiter.next()\n",
        "\n",
        "# add noise to the test images\n",
        "noisy_imgs = images + noise_factor * torch.randn(*images.shape)\n",
        "noisy_imgs = np.clip(noisy_imgs, 0., 1.)\n",
        "\n",
        "# get sample outputs\n",
        "output = denoiser_model(noisy_imgs)\n",
        "# prep images for display\n",
        "noisy_imgs = noisy_imgs.numpy()\n",
        "\n",
        "# output is resized into a batch of iages\n",
        "output = output.view(batch_size, 1, 28, 28)\n",
        "# use detach when it's an output that requires_grad\n",
        "output = output.detach().numpy()\n",
        "\n",
        "# plot the first ten input images and then reconstructed images\n",
        "fig, axes = plt.subplots(nrows=2, ncols=10, sharex=True, sharey=True, figsize=(25,4))\n",
        "\n",
        "# input images on top row, reconstructions on bottom\n",
        "for noisy_imgs, row in zip([noisy_imgs, output], axes):\n",
        "    for img, ax in zip(noisy_imgs, row):\n",
        "        ax.imshow(np.squeeze(img), cmap='gray')\n",
        "        ax.get_xaxis().set_visible(False)\n",
        "        ax.get_yaxis().set_visible(False)"
      ],
      "execution_count": 32,
      "outputs": [
        {
          "output_type": "stream",
          "text": [
            "/usr/local/lib/python3.7/dist-packages/torch/nn/functional.py:1709: UserWarning: nn.functional.sigmoid is deprecated. Use torch.sigmoid instead.\n",
            "  warnings.warn(\"nn.functional.sigmoid is deprecated. Use torch.sigmoid instead.\")\n"
          ],
          "name": "stderr"
        },
        {
          "output_type": "display_data",
          "data": {
            "image/png": "[encoded data removed]",
            "text/plain": [
              "<Figure size 1800x288 with 20 Axes>"
            ]
          },
          "metadata": {
            "tags": [],
            "needs_background": "light"
          }
        }
      ]
    },
    {
      "cell_type": "code",
      "metadata": {
        "colab": {
          "base_uri": "https://localhost:8080/",
          "height": 295
        },
        "id": "RAUFMuygxuwK",
        "outputId": "40e895dc-d3bd-4dab-d205-7419e43579e9"
      },
      "source": [
        "plt.title('model loss')\n",
        "plt.plot(train_loss2)\n",
        "plt.ylabel('loss')\n",
        "plt.xlabel('epoch')\n",
        "plt.show()"
      ],
      "execution_count": 33,
      "outputs": [
        {
          "output_type": "display_data",
          "data": {
            "image/png": "[encoded data removed]",
            "text/plain": [
              "<Figure size 432x288 with 1 Axes>"
            ]
          },
          "metadata": {
            "tags": [],
            "needs_background": "light"
          }
        }
      ]
    },
    {
      "cell_type": "code",
      "metadata": {
        "id": "VQWhRYMrx06M"
      },
      "source": [
        ""
      ],
      "execution_count": null,
      "outputs": []
    }
  ]
}